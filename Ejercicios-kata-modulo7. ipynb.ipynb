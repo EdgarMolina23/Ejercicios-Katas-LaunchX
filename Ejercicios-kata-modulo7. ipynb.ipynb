{
 "cells": [
  {
   "cell_type": "code",
   "execution_count": 3,
   "metadata": {},
   "outputs": [
    {
     "name": "stdout",
     "output_type": "stream",
     "text": [
      "Marte\n",
      "Tierra\n",
      "Jupiter\n"
     ]
    }
   ],
   "source": [
    "# Declaramos 2 variables\n",
    "\n",
    "nuevo_planeta = ''\n",
    "planetas = []\n",
    "# Escribe el ciclo while solicitado\n",
    "\n",
    "while nuevo_planeta.lower() != 'listo':\n",
    "    if nuevo_planeta:\n",
    "        planetas.append(nuevo_planeta)\n",
    "    nuevo_planeta = input('Introduce un nuevo planeta o si terminaste escribe \"Listo\" ')\n",
    "\n",
    "for planeta in planetas:\n",
    "    print(planeta)"
   ]
  },
  {
   "cell_type": "code",
   "execution_count": null,
   "metadata": {},
   "outputs": [],
   "source": []
  }
 ],
 "metadata": {
  "interpreter": {
   "hash": "5bb7c3507a1a264403ffe15135e617c42b0804990b25a621a5e07a20ce85bd40"
  },
  "kernelspec": {
   "display_name": "Python 3.10.2 64-bit",
   "language": "python",
   "name": "python3"
  },
  "language_info": {
   "codemirror_mode": {
    "name": "ipython",
    "version": 3
   },
   "file_extension": ".py",
   "mimetype": "text/x-python",
   "name": "python",
   "nbconvert_exporter": "python",
   "pygments_lexer": "ipython3",
   "version": "3.10.2"
  },
  "orig_nbformat": 4
 },
 "nbformat": 4,
 "nbformat_minor": 2
}
