{
 "cells": [
  {
   "cell_type": "code",
   "execution_count": 5,
   "metadata": {},
   "outputs": [
    {
     "name": "stdout",
     "output_type": "stream",
     "text": [
      "628949330\n",
      "390577533.93\n",
      "170000000\n",
      "105570000.0\n"
     ]
    }
   ],
   "source": [
    "#Variables para almacenar las distancias\n",
    "planeta_n1 = 778547200\n",
    "planeta_n2 = 149597870\n",
    "\n",
    "#Calcular la distancia entre planetas, agregamos abs para no obtener resultados negativos\n",
    "kilometros = planeta_n1 - planeta_n2\n",
    "print(abs(kilometros))\n",
    "\n",
    "#Conversion de Kilometros a Millas\n",
    "millas = kilometros * 0.621\n",
    "print(abs(millas))\n",
    "\n",
    "#Almacenamiento de las distancias\n",
    "planeta_n1 = input('Introduzca la distancia del sol para el primer planeta en KM')\n",
    "planeta_n2 = input('Introduzca la distancia desde el sol para el segundo planeta en KM')\n",
    "\n",
    "#Conversion de cadena a numero\n",
    "planeta_n1 = int(planeta_n1)\n",
    "planeta_n2 = int(planeta_n2)\n",
    "\n",
    "#Realizar el cálculo y determinar el valor absoluto\n",
    "kilometros = planeta_n1 - planeta_n2\n",
    "print(abs(kilometros))\n",
    "\n",
    "#Convertir de KM a Millas\n",
    "millas = kilometros * 0.621\n",
    "print(abs(millas))"
   ]
  },
  {
   "cell_type": "code",
   "execution_count": null,
   "metadata": {},
   "outputs": [],
   "source": []
  }
 ],
 "metadata": {
  "interpreter": {
   "hash": "5bb7c3507a1a264403ffe15135e617c42b0804990b25a621a5e07a20ce85bd40"
  },
  "kernelspec": {
   "display_name": "Python 3.10.2 64-bit",
   "language": "python",
   "name": "python3"
  },
  "language_info": {
   "codemirror_mode": {
    "name": "ipython",
    "version": 3
   },
   "file_extension": ".py",
   "mimetype": "text/x-python",
   "name": "python",
   "nbconvert_exporter": "python",
   "pygments_lexer": "ipython3",
   "version": "3.10.2"
  },
  "orig_nbformat": 4
 },
 "nbformat": 4,
 "nbformat_minor": 2
}
