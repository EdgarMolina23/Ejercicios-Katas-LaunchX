{
 "cells": [
  {
   "cell_type": "code",
   "execution_count": 11,
   "metadata": {},
   "outputs": [
    {
     "name": "stdout",
     "output_type": "stream",
     "text": [
      "Tenemos 8 planetas\n",
      "Pluto es el ultimo planeta\n",
      "Aqui estan los planetas mas cercanos que: Earth\n",
      "['Mercury', 'Venus']\n",
      "Aqui estan los planetas mas lejanos que: Earth\n",
      "['Mars', 'Jupiter', 'Saturn', 'Neptune']\n"
     ]
    }
   ],
   "source": [
    "# Creamos la lista planets y la mostramos\n",
    "\n",
    "planetas = ['Mercury', 'Venus', 'Earth', 'Mars', 'Jupiter', 'Saturn', 'Uranus', 'Neptune']\n",
    "\n",
    "print('Tenemos', len(planetas), 'planetas')\n",
    "# Agregamos a plutón y mostramos el último elemento\n",
    "\n",
    "planetas.append('Pluto')\n",
    "\n",
    "print(planetas[-1], 'es el ultimo planeta')\n",
    "\n",
    "#Lista de planetas\n",
    "planetas = ['Mercury', 'Venus', 'Earth', 'Mars', 'Jupiter', 'Saturn', 'Neptune']\n",
    "\n",
    "# Solicitamos el nombre de un planeta\n",
    "planeta_usuario = input('Por favor indica el nombre del planeta (con mayuscula para empezar)')\n",
    "\n",
    "# Busca el planeta en la lista\n",
    "planeta_index = planetas.index(planeta_usuario)\n",
    "\n",
    "# Muestra los planetas más cercanos al sol\n",
    "print('Aqui estan los planetas mas cercanos que: ' + planeta_usuario)\n",
    "print(planetas[0:planeta_index])\n",
    "# Muestra los planetas más lejanos al sol\n",
    "\n",
    "print('Aqui estan los planetas mas lejanos que: ' + planeta_usuario)\n",
    "print(planetas[planeta_index + 1:])"
   ]
  },
  {
   "cell_type": "code",
   "execution_count": null,
   "metadata": {},
   "outputs": [],
   "source": []
  }
 ],
 "metadata": {
  "interpreter": {
   "hash": "5bb7c3507a1a264403ffe15135e617c42b0804990b25a621a5e07a20ce85bd40"
  },
  "kernelspec": {
   "display_name": "Python 3.10.2 64-bit",
   "language": "python",
   "name": "python3"
  },
  "language_info": {
   "codemirror_mode": {
    "name": "ipython",
    "version": 3
   },
   "file_extension": ".py",
   "mimetype": "text/x-python",
   "name": "python",
   "nbconvert_exporter": "python",
   "pygments_lexer": "ipython3",
   "version": "3.10.2"
  },
  "orig_nbformat": 4
 },
 "nbformat": 4,
 "nbformat_minor": 2
}
