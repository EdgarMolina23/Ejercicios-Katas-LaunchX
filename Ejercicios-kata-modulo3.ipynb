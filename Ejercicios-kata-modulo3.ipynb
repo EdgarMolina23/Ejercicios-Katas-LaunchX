{
 "cells": [
  {
   "cell_type": "markdown",
   "metadata": {},
   "source": [
    "# Ejercicios declaraciones if, else y elif\n",
    "\n",
    "Para este ejercicio, escribirás una lógica condicional que imprima una advertencia si un asteroide se acerca a la Tierra demasiado rápido. La velocidad del asteroide varía dependiendo de lo cerca que esté del sol, y cualquier velocidad superior a 25 kilómetros por segundo (km/s) merece una advertencia.\n",
    "\n",
    "Un asteroide se acerca, y viaja a una velocidad de 49 km/s."
   ]
  },
  {
   "cell_type": "code",
   "execution_count": 1,
   "metadata": {},
   "outputs": [
    {
     "name": "stdout",
     "output_type": "stream",
     "text": [
      "Advertencia de peligro de asteroide\n"
     ]
    }
   ],
   "source": [
    "#  Añadir el codigo necesario para crear una variable que guarde la velocidad del asteroide.\n",
    "vel_asteroide = 49\n",
    "\n",
    "# Escribe una expresion de prueba para calcular si necesita una advertencia.\n",
    "\n",
    "if vel_asteroide > 25 :\n",
    "\n",
    "    # Si el asteroide tiene una velocidad mayor a 25 mandar una advertencia\n",
    "    print(\"Advertencia de peligro de asteroide\")\n",
    "\n",
    "else:\n",
    "    # Si el asteroide tiene una velocidad menor a 25 mandar mensaje de paz\n",
    "    print(\"Vamos a vivir un dia mas\")\n",
    "\n"
   ]
  },
  {
   "cell_type": "markdown",
   "metadata": {},
   "source": [
    "Si un asteroide entra en la atmósfera de la Tierra a una velocidad mayor o igual a 20 km/s, a veces produce un rayo de luz que se puede ver desde la Tierra. Escribe la lógica condicional que usa declaraciones if, else, y elif para alertar a las personas de todo el mundo que deben buscar un asteroide en el cielo. ¡Hay uno que se dirige a la tierra ahora a una velocidad de 19 km/s!"
   ]
  },
  {
   "cell_type": "code",
   "execution_count": 2,
   "metadata": {},
   "outputs": [
    {
     "name": "stdout",
     "output_type": "stream",
     "text": [
      "No hay nada en el cielo\n"
     ]
    }
   ],
   "source": [
    "# Agrega el codigo para crear una variable para una asteroide que viaja a 19 km/s\n",
    "vel_asteroide = 19\n",
    "\n",
    "# Escribe varias expresiones de prueba para determinar si puedes ver el rayo de luz desde la tierra\n",
    "\n",
    "if vel_asteroide > 20 :\n",
    "    # Si es mayor a 20 km/s se podra ver un rayo de luz en la tierra\n",
    "    print(\"Busquen el asteroide en el cielo!\")\n",
    "elif vel_asteroide == 20:\n",
    "    # Si es igual a 20 km/s se podra ver un rayo de luz en la tierra\n",
    "    print(\"Busquen el asteroide en el cielo!\")\n",
    "else: \n",
    "    # Si es menor a 20 km/s no se podra ver ningun rayo de luz en la tierra\n",
    "    print(\"No hay nada en el cielo\")"
   ]
  },
  {
   "cell_type": "markdown",
   "metadata": {},
   "source": [
    "# Ejercicio: Uso de operadores and y or\n",
    "\n",
    "En este ejercicio, aprenderás información más matizada sobre cuándo los asteroides representan un peligro para la Tierra, y utilizarás esa información para mejorar nuestro sistema de advertencia. Aquí está la nueva información que necesitas saber:\n",
    "\n",
    "*Los asteroides de menos de 25 metros en su dimensión más grande probablemente se quemarán a medida que entren en la atmósfera de la Tierra.\n",
    "\n",
    "Si una pieza de un asteroide que es más grande que 25 metros pero más pequeña que 1000 metros golpeara la Tierra, causaría mucho daño.\n",
    "También discutimos en el ejercicio anterior que:\n",
    "\n",
    "La velocidad del asteroide varía en función de lo cerca que esté del sol, y cualquier velocidad superior a 25 kilómetros por segundo (km/s) merece una advertencia.\n",
    "\n",
    "Si un asteroide entra en la atmósfera de la Tierra a una velocidad mayor o igual a 20 km/s, a veces produce un rayo de luz que se puede ver desde la Tierra."
   ]
  },
  {
   "cell_type": "code",
   "execution_count": 3,
   "metadata": {},
   "outputs": [
    {
     "name": "stdout",
     "output_type": "stream",
     "text": [
      "Advertencia se acerca un asteroide de gran impacto\n"
     ]
    }
   ],
   "source": [
    "# Variable de velocidad\n",
    "vel_asteroide = 25\n",
    "\n",
    "# Variable de dimension\n",
    "dim_asteroide = 50\n",
    "\n",
    "# Si el Asteroide tiene una dimension mayor a 25 metros o una velocidad mayor a 25 km/s\n",
    "if dim_asteroide > 25 or vel_asteroide > 25:\n",
    "\n",
    "    # Si el asteroide es mayor a 25 metros y tiene una velocidad mayor a 25 km/s es un peligro grande\n",
    "    if dim_asteroide > 25 and vel_asteroide > 25:\n",
    "        print(\"¡Advertencia impacto de asteroide muy peligroso!\")\n",
    "    \n",
    "    # Si el asteroide es menor a 25 metros y tiene una velocidad mayor a 25 km/s es un peligro menor\n",
    "    elif dim_asteroide < 25 and vel_asteroide > 25:\n",
    "        print(\"Advertencia se acerca un asteroide a gran velocidad\")\n",
    "\n",
    "    # Si el asteroide es mayor a 25 metros y tiene una velocidad menor a 25 km/s es un peligro mayor\n",
    "    elif dim_asteroide > 25 and vel_asteroide <= 25:\n",
    "        print(\"Advertencia se acerca un asteroide de gran impacto\")\n",
    "\n",
    "# Si el asteroide es menor de 25 metros y tiene una velocidad mayor a 20 km/s producira un rayo\n",
    "elif dim_asteroide < 25 and vel_asteroide >= 20:\n",
    "    print(\"El asteroide no es peligroso pero dara un espectaculo de rayos\")\n",
    "\n",
    "# Si el asteroide es menos a 25 metros y tiene una velocidad menor a 20 km/s estara todo despejado\n",
    "else: \n",
    "    print(\"El cielo esta despejado\")"
   ]
  }
 ],
 "metadata": {
  "interpreter": {
   "hash": "5bb7c3507a1a264403ffe15135e617c42b0804990b25a621a5e07a20ce85bd40"
  },
  "kernelspec": {
   "display_name": "Python 3.10.2 64-bit",
   "language": "python",
   "name": "python3"
  },
  "language_info": {
   "codemirror_mode": {
    "name": "ipython",
    "version": 3
   },
   "file_extension": ".py",
   "mimetype": "text/x-python",
   "name": "python",
   "nbconvert_exporter": "python",
   "pygments_lexer": "ipython3",
   "version": "3.10.2"
  },
  "orig_nbformat": 4
 },
 "nbformat": 4,
 "nbformat_minor": 2
}
